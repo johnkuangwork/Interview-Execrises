{
 "cells": [
  {
   "cell_type": "markdown",
   "metadata": {},
   "source": [
    "Imagine you are a recent hire at the bank. Your manager fills you in about a discussion among executives from Marketing and Wealth Management regarding the hypothesis that clients with more kinds of products at the bank keep more deposit dollars here.  Your manager asks you to investigate this issue and prepare a report that can go to the executives from both departments, as well as to the Chief Deposit Officer.  For this purpose, it is sufficient to consider three broad product categories: deposits (checking and savings), loans (assets borrowed from the bank), and wealth management (stocks and bonds).\n",
    "\n",
    "The initial exercises below promote familiarity with the client and bank account data needed to address this hypothesis.  The final question asks you to make an assessment on the matter."
   ]
  },
  {
   "cell_type": "code",
   "execution_count": 1,
   "metadata": {
    "collapsed": false,
    "jupyter": {
     "outputs_hidden": false
    }
   },
   "outputs": [
    {
     "data": {
      "text/html": [
       "<div>\n",
       "<style scoped>\n",
       "    .dataframe tbody tr th:only-of-type {\n",
       "        vertical-align: middle;\n",
       "    }\n",
       "\n",
       "    .dataframe tbody tr th {\n",
       "        vertical-align: top;\n",
       "    }\n",
       "\n",
       "    .dataframe thead th {\n",
       "        text-align: right;\n",
       "    }\n",
       "</style>\n",
       "<table border=\"1\" class=\"dataframe\">\n",
       "  <thead>\n",
       "    <tr style=\"text-align: right;\">\n",
       "      <th></th>\n",
       "      <th>AccountBalance</th>\n",
       "      <th>AccountID</th>\n",
       "      <th>AccountStatus</th>\n",
       "      <th>AccountType</th>\n",
       "    </tr>\n",
       "  </thead>\n",
       "  <tbody>\n",
       "    <tr>\n",
       "      <th>0</th>\n",
       "      <td>25127.38</td>\n",
       "      <td>44363</td>\n",
       "      <td>open</td>\n",
       "      <td>D</td>\n",
       "    </tr>\n",
       "    <tr>\n",
       "      <th>1</th>\n",
       "      <td>25662.58</td>\n",
       "      <td>36801</td>\n",
       "      <td>open</td>\n",
       "      <td>D</td>\n",
       "    </tr>\n",
       "    <tr>\n",
       "      <th>2</th>\n",
       "      <td>3149.79</td>\n",
       "      <td>38963</td>\n",
       "      <td>open</td>\n",
       "      <td>D</td>\n",
       "    </tr>\n",
       "    <tr>\n",
       "      <th>3</th>\n",
       "      <td>870489.00</td>\n",
       "      <td>53464</td>\n",
       "      <td>open</td>\n",
       "      <td>L</td>\n",
       "    </tr>\n",
       "    <tr>\n",
       "      <th>4</th>\n",
       "      <td>714025.00</td>\n",
       "      <td>30787</td>\n",
       "      <td>open</td>\n",
       "      <td>L</td>\n",
       "    </tr>\n",
       "  </tbody>\n",
       "</table>\n",
       "</div>"
      ],
      "text/plain": [
       "   AccountBalance  AccountID AccountStatus AccountType\n",
       "0        25127.38      44363          open           D\n",
       "1        25662.58      36801          open           D\n",
       "2         3149.79      38963          open           D\n",
       "3       870489.00      53464          open           L\n",
       "4       714025.00      30787          open           L"
      ]
     },
     "metadata": {},
     "output_type": "display_data"
    },
    {
     "data": {
      "text/html": [
       "<div>\n",
       "<style scoped>\n",
       "    .dataframe tbody tr th:only-of-type {\n",
       "        vertical-align: middle;\n",
       "    }\n",
       "\n",
       "    .dataframe tbody tr th {\n",
       "        vertical-align: top;\n",
       "    }\n",
       "\n",
       "    .dataframe thead th {\n",
       "        text-align: right;\n",
       "    }\n",
       "</style>\n",
       "<table border=\"1\" class=\"dataframe\">\n",
       "  <thead>\n",
       "    <tr style=\"text-align: right;\">\n",
       "      <th></th>\n",
       "      <th>ClientID</th>\n",
       "      <th>Gender</th>\n",
       "      <th>Name</th>\n",
       "      <th>Region</th>\n",
       "    </tr>\n",
       "  </thead>\n",
       "  <tbody>\n",
       "    <tr>\n",
       "      <th>0</th>\n",
       "      <td>1353110</td>\n",
       "      <td>M</td>\n",
       "      <td>Zeus Odetta</td>\n",
       "      <td>NE</td>\n",
       "    </tr>\n",
       "    <tr>\n",
       "      <th>1</th>\n",
       "      <td>168163</td>\n",
       "      <td>M</td>\n",
       "      <td>Eliza Aye</td>\n",
       "      <td>SW</td>\n",
       "    </tr>\n",
       "    <tr>\n",
       "      <th>2</th>\n",
       "      <td>7170</td>\n",
       "      <td>M</td>\n",
       "      <td>Claude Janissa</td>\n",
       "      <td>SE</td>\n",
       "    </tr>\n",
       "    <tr>\n",
       "      <th>3</th>\n",
       "      <td>747320</td>\n",
       "      <td>F</td>\n",
       "      <td>Coreena Renada</td>\n",
       "      <td>NE</td>\n",
       "    </tr>\n",
       "    <tr>\n",
       "      <th>4</th>\n",
       "      <td>754670</td>\n",
       "      <td>M</td>\n",
       "      <td>Laurance Kalishia</td>\n",
       "      <td>NE</td>\n",
       "    </tr>\n",
       "  </tbody>\n",
       "</table>\n",
       "</div>"
      ],
      "text/plain": [
       "   ClientID Gender               Name Region\n",
       "0   1353110      M        Zeus Odetta     NE\n",
       "1    168163      M          Eliza Aye     SW\n",
       "2      7170      M     Claude Janissa     SE\n",
       "3    747320      F     Coreena Renada     NE\n",
       "4    754670      M  Laurance Kalishia     NE"
      ]
     },
     "metadata": {},
     "output_type": "display_data"
    },
    {
     "data": {
      "text/html": [
       "<div>\n",
       "<style scoped>\n",
       "    .dataframe tbody tr th:only-of-type {\n",
       "        vertical-align: middle;\n",
       "    }\n",
       "\n",
       "    .dataframe tbody tr th {\n",
       "        vertical-align: top;\n",
       "    }\n",
       "\n",
       "    .dataframe thead th {\n",
       "        text-align: right;\n",
       "    }\n",
       "</style>\n",
       "<table border=\"1\" class=\"dataframe\">\n",
       "  <thead>\n",
       "    <tr style=\"text-align: right;\">\n",
       "      <th></th>\n",
       "      <th>AccountID</th>\n",
       "      <th>ClientID</th>\n",
       "    </tr>\n",
       "  </thead>\n",
       "  <tbody>\n",
       "    <tr>\n",
       "      <th>0</th>\n",
       "      <td>44363</td>\n",
       "      <td>1353110</td>\n",
       "    </tr>\n",
       "    <tr>\n",
       "      <th>1</th>\n",
       "      <td>36801</td>\n",
       "      <td>1353110</td>\n",
       "    </tr>\n",
       "    <tr>\n",
       "      <th>2</th>\n",
       "      <td>38963</td>\n",
       "      <td>1353110</td>\n",
       "    </tr>\n",
       "    <tr>\n",
       "      <th>3</th>\n",
       "      <td>53464</td>\n",
       "      <td>1353110</td>\n",
       "    </tr>\n",
       "    <tr>\n",
       "      <th>4</th>\n",
       "      <td>30787</td>\n",
       "      <td>1353110</td>\n",
       "    </tr>\n",
       "  </tbody>\n",
       "</table>\n",
       "</div>"
      ],
      "text/plain": [
       "   AccountID  ClientID\n",
       "0      44363   1353110\n",
       "1      36801   1353110\n",
       "2      38963   1353110\n",
       "3      53464   1353110\n",
       "4      30787   1353110"
      ]
     },
     "metadata": {},
     "output_type": "display_data"
    },
    {
     "name": "stdout",
     "output_type": "stream",
     "text": [
      "Account table dimensions:  (4139, 4)\n",
      "Client table dimensions:  (902, 4)\n",
      "Client-account bridge table dimensions:  (4139, 2)\n"
     ]
    }
   ],
   "source": [
    "import pandas as pd\n",
    "import numpy as np\n",
    "from IPython.display import display\n",
    "import matplotlib.pyplot as plt\n",
    "\n",
    "%matplotlib inline\n",
    "\n",
    "acctdf = pd.read_csv(\"data/AccountTable.csv\")\n",
    "clientdf = pd.read_csv('data/ClientTable.csv')\n",
    "bridgedf = pd.read_csv('data/ClientAcctFact.csv')\n",
    "\n",
    "display(acctdf.head())\n",
    "display(clientdf.head())\n",
    "display(bridgedf.head())\n",
    "\n",
    "print(\"Account table dimensions: \", acctdf.shape)\n",
    "print(\"Client table dimensions: \", clientdf.shape)\n",
    "print('Client-account bridge table dimensions: ', bridgedf.shape)"
   ]
  },
  {
   "cell_type": "markdown",
   "metadata": {},
   "source": [
    "# Client Table Questions"
   ]
  },
  {
   "cell_type": "markdown",
   "metadata": {},
   "source": [
    "### How many clients are in the bank?"
   ]
  },
  {
   "cell_type": "code",
   "execution_count": 2,
   "metadata": {},
   "outputs": [
    {
     "name": "stdout",
     "output_type": "stream",
     "text": [
      "There are total 902 clients in the bank\n"
     ]
    }
   ],
   "source": [
    "print('There are total '+str(clientdf['ClientID'].nunique())+' clients in the bank')"
   ]
  },
  {
   "cell_type": "markdown",
   "metadata": {},
   "source": [
    "### How many clients are in each region?"
   ]
  },
  {
   "cell_type": "code",
   "execution_count": 3,
   "metadata": {},
   "outputs": [
    {
     "data": {
      "text/html": [
       "<div>\n",
       "<style scoped>\n",
       "    .dataframe tbody tr th:only-of-type {\n",
       "        vertical-align: middle;\n",
       "    }\n",
       "\n",
       "    .dataframe tbody tr th {\n",
       "        vertical-align: top;\n",
       "    }\n",
       "\n",
       "    .dataframe thead th {\n",
       "        text-align: right;\n",
       "    }\n",
       "</style>\n",
       "<table border=\"1\" class=\"dataframe\">\n",
       "  <thead>\n",
       "    <tr style=\"text-align: right;\">\n",
       "      <th></th>\n",
       "      <th>ClientID</th>\n",
       "    </tr>\n",
       "    <tr>\n",
       "      <th>Region</th>\n",
       "      <th></th>\n",
       "    </tr>\n",
       "  </thead>\n",
       "  <tbody>\n",
       "    <tr>\n",
       "      <th>NE</th>\n",
       "      <td>421</td>\n",
       "    </tr>\n",
       "    <tr>\n",
       "      <th>NW</th>\n",
       "      <td>115</td>\n",
       "    </tr>\n",
       "    <tr>\n",
       "      <th>SE</th>\n",
       "      <td>195</td>\n",
       "    </tr>\n",
       "    <tr>\n",
       "      <th>SW</th>\n",
       "      <td>171</td>\n",
       "    </tr>\n",
       "  </tbody>\n",
       "</table>\n",
       "</div>"
      ],
      "text/plain": [
       "        ClientID\n",
       "Region          \n",
       "NE           421\n",
       "NW           115\n",
       "SE           195\n",
       "SW           171"
      ]
     },
     "execution_count": 3,
     "metadata": {},
     "output_type": "execute_result"
    }
   ],
   "source": [
    "clientdf[['ClientID','Region']].groupby('Region').count()"
   ]
  },
  {
   "cell_type": "markdown",
   "metadata": {},
   "source": [
    "### Create a bar plot of gender frequency"
   ]
  },
  {
   "cell_type": "code",
   "execution_count": 4,
   "metadata": {},
   "outputs": [],
   "source": [
    "y=clientdf['Gender'].value_counts().tolist()"
   ]
  },
  {
   "cell_type": "code",
   "execution_count": 5,
   "metadata": {},
   "outputs": [
    {
     "data": {
      "image/png": "[encoded data removed]",
      "text/plain": [
       "<Figure size 576x432 with 1 Axes>"
      ]
     },
     "metadata": {
      "needs_background": "light"
     },
     "output_type": "display_data"
    }
   ],
   "source": [
    "fig, ax = plt.subplots(figsize=(8, 6))\n",
    "ax.set_ylabel('Frequency')\n",
    "ax.set_xlabel('Gender')\n",
    "ax.set_title('Gender Frequency Plot')\n",
    "\n",
    "clientdf['Gender'].value_counts().plot(ax=ax, kind='bar')\n",
    "plt.xticks(rotation=0)\n",
    "\n",
    "for i, v in enumerate(y):\n",
    "    plt.text(i-0.05, v+5, str(v))\n",
    "plt.show()"
   ]
  },
  {
   "cell_type": "markdown",
   "metadata": {},
   "source": [
    "# Account Table Questions"
   ]
  },
  {
   "cell_type": "markdown",
   "metadata": {},
   "source": [
    "### What percentage of all accounts are {open, closed}?"
   ]
  },
  {
   "cell_type": "code",
   "execution_count": 6,
   "metadata": {},
   "outputs": [
    {
     "name": "stdout",
     "output_type": "stream",
     "text": [
      "Percentage of {open,closed} accounts are 94.61%\n"
     ]
    }
   ],
   "source": [
    "perc=acctdf['AccountStatus'].value_counts(normalize=True)['open']+acctdf['AccountStatus'].value_counts(normalize=True)['closed']\n",
    "print('Percentage of {open,closed} accounts are '+\"{0:0.2%}\".format(perc))"
   ]
  },
  {
   "cell_type": "markdown",
   "metadata": {},
   "source": [
    "### What percentage of D accounts are closed?"
   ]
  },
  {
   "cell_type": "code",
   "execution_count": 7,
   "metadata": {},
   "outputs": [
    {
     "name": "stdout",
     "output_type": "stream",
     "text": [
      "Percentage of D accounts are closed is 10.64%\n"
     ]
    }
   ],
   "source": [
    "acctdf_D=acctdf.loc[acctdf['AccountType'] == 'D']\n",
    "perc_D=acctdf_D['AccountStatus'].value_counts(normalize=True)['closed']\n",
    "print('Percentage of D accounts are closed is '+\"{0:0.2%}\".format(perc_D))"
   ]
  },
  {
   "cell_type": "markdown",
   "metadata": {},
   "source": [
    "# Combined Client and Account table"
   ]
  },
  {
   "cell_type": "markdown",
   "metadata": {},
   "source": [
    "### Merge the Client and Account tables together"
   ]
  },
  {
   "cell_type": "code",
   "execution_count": 8,
   "metadata": {},
   "outputs": [],
   "source": [
    "acctdf_temp=pd.merge(left=acctdf,right=bridgedf,how='inner',on='AccountID')\n",
    "comb = pd.merge(left=clientdf,right=acctdf_temp,how='left',on='ClientID')"
   ]
  },
  {
   "cell_type": "markdown",
   "metadata": {},
   "source": [
    "### Create a new field in the merged table called 'ClientType' that tells you the type of open accounts that each client has. For example, if a client currently has a D, L and W account, the ClientType would be 'DLW'. If a client only has an open D and L account then the ClientType would be 'DL'."
   ]
  },
  {
   "cell_type": "code",
   "execution_count": 9,
   "metadata": {},
   "outputs": [
    {
     "data": {
      "text/html": [
       "<div>\n",
       "<style scoped>\n",
       "    .dataframe tbody tr th:only-of-type {\n",
       "        vertical-align: middle;\n",
       "    }\n",
       "\n",
       "    .dataframe tbody tr th {\n",
       "        vertical-align: top;\n",
       "    }\n",
       "\n",
       "    .dataframe thead th {\n",
       "        text-align: right;\n",
       "    }\n",
       "</style>\n",
       "<table border=\"1\" class=\"dataframe\">\n",
       "  <thead>\n",
       "    <tr style=\"text-align: right;\">\n",
       "      <th></th>\n",
       "      <th>ClientID</th>\n",
       "      <th>Gender</th>\n",
       "      <th>Name</th>\n",
       "      <th>Region</th>\n",
       "      <th>AccountBalance</th>\n",
       "      <th>AccountID</th>\n",
       "      <th>AccountStatus</th>\n",
       "      <th>AccountType</th>\n",
       "      <th>ClientType</th>\n",
       "    </tr>\n",
       "  </thead>\n",
       "  <tbody>\n",
       "    <tr>\n",
       "      <th>0</th>\n",
       "      <td>1353110</td>\n",
       "      <td>M</td>\n",
       "      <td>Zeus Odetta</td>\n",
       "      <td>NE</td>\n",
       "      <td>25127.38</td>\n",
       "      <td>44363.0</td>\n",
       "      <td>open</td>\n",
       "      <td>D</td>\n",
       "      <td>DLW</td>\n",
       "    </tr>\n",
       "    <tr>\n",
       "      <th>1</th>\n",
       "      <td>1353110</td>\n",
       "      <td>M</td>\n",
       "      <td>Zeus Odetta</td>\n",
       "      <td>NE</td>\n",
       "      <td>25662.58</td>\n",
       "      <td>36801.0</td>\n",
       "      <td>open</td>\n",
       "      <td>D</td>\n",
       "      <td>DLW</td>\n",
       "    </tr>\n",
       "    <tr>\n",
       "      <th>2</th>\n",
       "      <td>1353110</td>\n",
       "      <td>M</td>\n",
       "      <td>Zeus Odetta</td>\n",
       "      <td>NE</td>\n",
       "      <td>3149.79</td>\n",
       "      <td>38963.0</td>\n",
       "      <td>open</td>\n",
       "      <td>D</td>\n",
       "      <td>DLW</td>\n",
       "    </tr>\n",
       "    <tr>\n",
       "      <th>3</th>\n",
       "      <td>1353110</td>\n",
       "      <td>M</td>\n",
       "      <td>Zeus Odetta</td>\n",
       "      <td>NE</td>\n",
       "      <td>870489.00</td>\n",
       "      <td>53464.0</td>\n",
       "      <td>open</td>\n",
       "      <td>L</td>\n",
       "      <td>DLW</td>\n",
       "    </tr>\n",
       "    <tr>\n",
       "      <th>4</th>\n",
       "      <td>1353110</td>\n",
       "      <td>M</td>\n",
       "      <td>Zeus Odetta</td>\n",
       "      <td>NE</td>\n",
       "      <td>714025.00</td>\n",
       "      <td>30787.0</td>\n",
       "      <td>open</td>\n",
       "      <td>L</td>\n",
       "      <td>DLW</td>\n",
       "    </tr>\n",
       "    <tr>\n",
       "      <th>5</th>\n",
       "      <td>1353110</td>\n",
       "      <td>M</td>\n",
       "      <td>Zeus Odetta</td>\n",
       "      <td>NE</td>\n",
       "      <td>788544.00</td>\n",
       "      <td>90141.0</td>\n",
       "      <td>open</td>\n",
       "      <td>W</td>\n",
       "      <td>DLW</td>\n",
       "    </tr>\n",
       "    <tr>\n",
       "      <th>6</th>\n",
       "      <td>1353110</td>\n",
       "      <td>M</td>\n",
       "      <td>Zeus Odetta</td>\n",
       "      <td>NE</td>\n",
       "      <td>1920996.00</td>\n",
       "      <td>9976.0</td>\n",
       "      <td>open</td>\n",
       "      <td>W</td>\n",
       "      <td>DLW</td>\n",
       "    </tr>\n",
       "    <tr>\n",
       "      <th>7</th>\n",
       "      <td>1353110</td>\n",
       "      <td>M</td>\n",
       "      <td>Zeus Odetta</td>\n",
       "      <td>NE</td>\n",
       "      <td>451584.00</td>\n",
       "      <td>25118.0</td>\n",
       "      <td>open</td>\n",
       "      <td>W</td>\n",
       "      <td>DLW</td>\n",
       "    </tr>\n",
       "    <tr>\n",
       "      <th>8</th>\n",
       "      <td>1353110</td>\n",
       "      <td>M</td>\n",
       "      <td>Zeus Odetta</td>\n",
       "      <td>NE</td>\n",
       "      <td>708964.00</td>\n",
       "      <td>97251.0</td>\n",
       "      <td>closed</td>\n",
       "      <td>W</td>\n",
       "      <td>DLW</td>\n",
       "    </tr>\n",
       "    <tr>\n",
       "      <th>9</th>\n",
       "      <td>1353110</td>\n",
       "      <td>M</td>\n",
       "      <td>Zeus Odetta</td>\n",
       "      <td>NE</td>\n",
       "      <td>2471184.00</td>\n",
       "      <td>30337.0</td>\n",
       "      <td>open</td>\n",
       "      <td>W</td>\n",
       "      <td>DLW</td>\n",
       "    </tr>\n",
       "  </tbody>\n",
       "</table>\n",
       "</div>"
      ],
      "text/plain": [
       "   ClientID Gender         Name Region  AccountBalance  AccountID  \\\n",
       "0   1353110      M  Zeus Odetta     NE        25127.38    44363.0   \n",
       "1   1353110      M  Zeus Odetta     NE        25662.58    36801.0   \n",
       "2   1353110      M  Zeus Odetta     NE         3149.79    38963.0   \n",
       "3   1353110      M  Zeus Odetta     NE       870489.00    53464.0   \n",
       "4   1353110      M  Zeus Odetta     NE       714025.00    30787.0   \n",
       "5   1353110      M  Zeus Odetta     NE       788544.00    90141.0   \n",
       "6   1353110      M  Zeus Odetta     NE      1920996.00     9976.0   \n",
       "7   1353110      M  Zeus Odetta     NE       451584.00    25118.0   \n",
       "8   1353110      M  Zeus Odetta     NE       708964.00    97251.0   \n",
       "9   1353110      M  Zeus Odetta     NE      2471184.00    30337.0   \n",
       "\n",
       "  AccountStatus AccountType ClientType  \n",
       "0          open           D        DLW  \n",
       "1          open           D        DLW  \n",
       "2          open           D        DLW  \n",
       "3          open           L        DLW  \n",
       "4          open           L        DLW  \n",
       "5          open           W        DLW  \n",
       "6          open           W        DLW  \n",
       "7          open           W        DLW  \n",
       "8        closed           W        DLW  \n",
       "9          open           W        DLW  "
      ]
     },
     "execution_count": 9,
     "metadata": {},
     "output_type": "execute_result"
    }
   ],
   "source": [
    "def unique_letter(x):\n",
    "    return ''.join(sorted(''.join(set(x))))\n",
    "\n",
    "temp1=comb[['ClientID','AccountType']].loc[comb['AccountStatus']=='open'].groupby('ClientID').sum()\n",
    "temp2=temp1.loc[temp1['AccountType']!=0].copy()\n",
    "temp2['ClientType']=temp2['AccountType'].apply(unique_letter)\n",
    "comb=comb.merge(temp2.drop(columns=['AccountType']),on='ClientID',how='left')\n",
    "comb.head(10)"
   ]
  },
  {
   "cell_type": "markdown",
   "metadata": {},
   "source": [
    "### How many different client types are there?"
   ]
  },
  {
   "cell_type": "code",
   "execution_count": 10,
   "metadata": {},
   "outputs": [
    {
     "name": "stdout",
     "output_type": "stream",
     "text": [
      "There are 7 different client types\n"
     ]
    }
   ],
   "source": [
    "diff_type=comb['ClientType'].nunique()\n",
    "print('There are '+str(diff_type)+' different client types')"
   ]
  },
  {
   "cell_type": "markdown",
   "metadata": {},
   "source": [
    "### How many clients have open accounts of all three product types (D, L, and W)?  With what probability do you think your answer is correct?  Please justify."
   ]
  },
  {
   "cell_type": "code",
   "execution_count": 11,
   "metadata": {},
   "outputs": [
    {
     "name": "stdout",
     "output_type": "stream",
     "text": [
      "There are 84 clients have all three open accounts\n",
      "I am confident this is the correct figure, separately validate from excel\n"
     ]
    }
   ],
   "source": [
    "num_threetypes=comb['ClientID'].loc[comb['ClientType']=='DLW'].nunique()\n",
    "print('There are '+str(num_threetypes)+' clients have all three open accounts')\n",
    "print('I am confident this is the correct figure, separately validate from excel')"
   ]
  },
  {
   "cell_type": "markdown",
   "metadata": {},
   "source": [
    "### What is the average open W account balance for clients that have at least two open L accounts?  With what probability do you think your answer is correct?  Please justify."
   ]
  },
  {
   "cell_type": "code",
   "execution_count": 12,
   "metadata": {},
   "outputs": [
    {
     "name": "stdout",
     "output_type": "stream",
     "text": [
      "Average open W account balance for clients that have at least two open L accounts is 1143544.5332821303\n",
      "I am confident this is the correct figure, separately validate from excel\n"
     ]
    }
   ],
   "source": [
    "temp3=comb.loc[(comb['AccountStatus']=='open')].groupby(['ClientID']).filter(lambda x:x.loc[x['AccountType']=='L']['AccountStatus'].count()>=2)\n",
    "avg_open_w=temp3.loc[temp3['AccountType']=='W'].groupby(['ClientID'])['AccountBalance'].mean().mean()\n",
    "print('Average open W account balance for clients that have at least two open L accounts is '+str(avg_open_w))\n",
    "print('I am confident this is the correct figure, separately validate from excel')"
   ]
  },
  {
   "cell_type": "markdown",
   "metadata": {},
   "source": [
    "# Business Question\n",
    "\n",
    "- We hypothesize that clients with more product types also have more **deposit** dollars with us.  Please provide evidence either for or against this hypothesis.  \n",
    "- How confident are you in your answer, and why?"
   ]
  },
  {
   "cell_type": "code",
   "execution_count": 13,
   "metadata": {},
   "outputs": [],
   "source": [
    "import statsmodels.api as sm\n",
    "from statsmodels.formula.api import ols\n",
    "from statsmodels.stats.multicomp import MultiComparison,pairwise_tukeyhsd\n",
    "import seaborn as sns"
   ]
  },
  {
   "cell_type": "markdown",
   "metadata": {},
   "source": [
    "##### We can run a one-way ANOVA analysis to check if the Hypothesis is true or not. \n",
    "- Categories are cliensts with 1,2,3 OPEN accounts (we exclude clients with no account balance, closed and unknow accounts)\n",
    "- Response variable is the sum of account balances\n",
    "\n",
    "- Step 1: Create DataFrame for Anova Analysis\n",
    "- Step 2: a the mean and standard diviation by number of accounts\n",
    "- Step 3: ANOVA Result Analysis\n",
    "- Step 4: Check ANOVA assumption\n",
    "       -- Normality: The distribution of the response variable follows a normal distribution\n",
    "       -- The population variances are equal across responses for the group levels\n",
    "- Step 5: Conclusion"
   ]
  },
  {
   "cell_type": "markdown",
   "metadata": {},
   "source": [
    "##### Step 1 - Create Dataframe"
   ]
  },
  {
   "cell_type": "code",
   "execution_count": 15,
   "metadata": {},
   "outputs": [
    {
     "data": {
      "text/html": [
       "<div>\n",
       "<style scoped>\n",
       "    .dataframe tbody tr th:only-of-type {\n",
       "        vertical-align: middle;\n",
       "    }\n",
       "\n",
       "    .dataframe tbody tr th {\n",
       "        vertical-align: top;\n",
       "    }\n",
       "\n",
       "    .dataframe thead th {\n",
       "        text-align: right;\n",
       "    }\n",
       "</style>\n",
       "<table border=\"1\" class=\"dataframe\">\n",
       "  <thead>\n",
       "    <tr style=\"text-align: right;\">\n",
       "      <th></th>\n",
       "      <th>AccountBalance</th>\n",
       "      <th>ProductTypes</th>\n",
       "    </tr>\n",
       "    <tr>\n",
       "      <th>ClientID</th>\n",
       "      <th></th>\n",
       "      <th></th>\n",
       "    </tr>\n",
       "  </thead>\n",
       "  <tbody>\n",
       "    <tr>\n",
       "      <th>784</th>\n",
       "      <td>5611785.00</td>\n",
       "      <td>2</td>\n",
       "    </tr>\n",
       "    <tr>\n",
       "      <th>1291</th>\n",
       "      <td>835396.00</td>\n",
       "      <td>1</td>\n",
       "    </tr>\n",
       "    <tr>\n",
       "      <th>7138</th>\n",
       "      <td>7338156.99</td>\n",
       "      <td>3</td>\n",
       "    </tr>\n",
       "    <tr>\n",
       "      <th>7170</th>\n",
       "      <td>90090.23</td>\n",
       "      <td>1</td>\n",
       "    </tr>\n",
       "    <tr>\n",
       "      <th>7475</th>\n",
       "      <td>3204362.31</td>\n",
       "      <td>2</td>\n",
       "    </tr>\n",
       "  </tbody>\n",
       "</table>\n",
       "</div>"
      ],
      "text/plain": [
       "          AccountBalance  ProductTypes\n",
       "ClientID                              \n",
       "784           5611785.00             2\n",
       "1291           835396.00             1\n",
       "7138          7338156.99             3\n",
       "7170            90090.23             1\n",
       "7475          3204362.31             2"
      ]
     },
     "execution_count": 15,
     "metadata": {},
     "output_type": "execute_result"
    }
   ],
   "source": [
    "aggregations = {\n",
    "    'AccountBalance':'sum',\n",
    "    'AccountType': 'nunique'}\n",
    "\n",
    "df=comb.loc[(comb['AccountStatus']=='open')].groupby(['ClientID']).agg(aggregations)\n",
    "df.rename(columns={'AccountType':'ProductTypes'}, inplace=True)\n",
    "df.head(5)"
   ]
  },
  {
   "cell_type": "markdown",
   "metadata": {},
   "source": [
    "##### Step 2 - Visualization"
   ]
  },
  {
   "cell_type": "code",
   "execution_count": 16,
   "metadata": {},
   "outputs": [
    {
     "name": "stdout",
     "output_type": "stream",
     "text": [
      "Mean and Standardiviation in Thousands 000 \n",
      "\n"
     ]
    },
    {
     "data": {
      "text/html": [
       "<div>\n",
       "<style scoped>\n",
       "    .dataframe tbody tr th:only-of-type {\n",
       "        vertical-align: middle;\n",
       "    }\n",
       "\n",
       "    .dataframe tbody tr th {\n",
       "        vertical-align: top;\n",
       "    }\n",
       "\n",
       "    .dataframe thead tr th {\n",
       "        text-align: left;\n",
       "    }\n",
       "\n",
       "    .dataframe thead tr:last-of-type th {\n",
       "        text-align: right;\n",
       "    }\n",
       "</style>\n",
       "<table border=\"1\" class=\"dataframe\">\n",
       "  <thead>\n",
       "    <tr>\n",
       "      <th></th>\n",
       "      <th colspan=\"2\" halign=\"left\">AccountBalance</th>\n",
       "    </tr>\n",
       "    <tr>\n",
       "      <th></th>\n",
       "      <th>mean</th>\n",
       "      <th>std</th>\n",
       "    </tr>\n",
       "    <tr>\n",
       "      <th>ProductTypes</th>\n",
       "      <th></th>\n",
       "      <th></th>\n",
       "    </tr>\n",
       "  </thead>\n",
       "  <tbody>\n",
       "    <tr>\n",
       "      <th>1</th>\n",
       "      <td>616.025075</td>\n",
       "      <td>957.325429</td>\n",
       "    </tr>\n",
       "    <tr>\n",
       "      <th>2</th>\n",
       "      <td>2504.958405</td>\n",
       "      <td>1633.779289</td>\n",
       "    </tr>\n",
       "    <tr>\n",
       "      <th>3</th>\n",
       "      <td>7447.493138</td>\n",
       "      <td>2810.936447</td>\n",
       "    </tr>\n",
       "  </tbody>\n",
       "</table>\n",
       "</div>"
      ],
      "text/plain": [
       "             AccountBalance             \n",
       "                       mean          std\n",
       "ProductTypes                            \n",
       "1                616.025075   957.325429\n",
       "2               2504.958405  1633.779289\n",
       "3               7447.493138  2810.936447"
      ]
     },
     "execution_count": 16,
     "metadata": {},
     "output_type": "execute_result"
    },
    {
     "data": {
      "image/png": "[encoded data removed]",
      "text/plain": [
       "<Figure size 432x288 with 1 Axes>"
      ]
     },
     "metadata": {
      "needs_background": "light"
     },
     "output_type": "display_data"
    }
   ],
   "source": [
    "ax = sns.boxplot(x=\"ProductTypes\", y=\"AccountBalance\", data=df)\n",
    "aggregations = {\n",
    "    'AccountBalance':['mean','std']}\n",
    "print('Mean and Standardiviation in Thousands 000','\\n')\n",
    "df.groupby('ProductTypes').agg(aggregations)/1000"
   ]
  },
  {
   "cell_type": "markdown",
   "metadata": {},
   "source": [
    "As observe above the mean and std are quite different between groups.\n",
    "The AccountBalance is higher for client with larger ProductTypes."
   ]
  },
  {
   "cell_type": "markdown",
   "metadata": {},
   "source": [
    "##### Step 3 - ANOVA Result Analysis"
   ]
  },
  {
   "cell_type": "code",
   "execution_count": 27,
   "metadata": {},
   "outputs": [],
   "source": [
    "# One-Way ANOVA"
   ]
  },
  {
   "cell_type": "code",
   "execution_count": 28,
   "metadata": {},
   "outputs": [
    {
     "name": "stdout",
     "output_type": "stream",
     "text": [
      "                            OLS Regression Results                            \n",
      "==============================================================================\n",
      "Dep. Variable:         AccountBalance   R-squared:                       0.666\n",
      "Model:                            OLS   Adj. R-squared:                  0.665\n",
      "Method:                 Least Squares   F-statistic:                     774.2\n",
      "Date:                Sat, 25 Apr 2020   Prob (F-statistic):          1.12e-185\n",
      "Time:                        20:25:53   Log-Likelihood:                -12190.\n",
      "No. Observations:                 780   AIC:                         2.439e+04\n",
      "Df Residuals:                     777   BIC:                         2.440e+04\n",
      "Df Model:                           2                                         \n",
      "Covariance Type:            nonrobust                                         \n",
      "========================================================================================\n",
      "                           coef    std err          t      P>|t|      [0.025      0.975]\n",
      "----------------------------------------------------------------------------------------\n",
      "Intercept              6.16e+05   6.98e+04      8.823      0.000    4.79e+05    7.53e+05\n",
      "C(ProductTypes)[T.2]  1.889e+06   1.18e+05     15.985      0.000    1.66e+06    2.12e+06\n",
      "C(ProductTypes)[T.3]  6.831e+06   1.77e+05     38.696      0.000    6.48e+06    7.18e+06\n",
      "==============================================================================\n",
      "Omnibus:                      170.249   Durbin-Watson:                   1.964\n",
      "Prob(Omnibus):                  0.000   Jarque-Bera (JB):              815.013\n",
      "Skew:                           0.909   Prob(JB):                    1.05e-177\n",
      "Kurtosis:                       7.666   Cond. No.                         3.67\n",
      "==============================================================================\n",
      "\n",
      "Warnings:\n",
      "[1] Standard Errors assume that the covariance matrix of the errors is correctly specified.\n"
     ]
    }
   ],
   "source": [
    "results = ols('AccountBalance ~ C(ProductTypes)', data=df).fit()\n",
    "print(results.summary())"
   ]
  },
  {
   "cell_type": "markdown",
   "metadata": {},
   "source": [
    "##### As observe above the Prob (F-statistic) is close to zero, this is an indicator to:\n",
    "- It is statistically significant to say that the account balance of cliensts with 1,2,3 ProductTypes are different\n",
    "- We need to further run a Post-hoc test to find out how are the differences between ProductTypes"
   ]
  },
  {
   "cell_type": "code",
   "execution_count": 21,
   "metadata": {},
   "outputs": [],
   "source": [
    "# Post-hoc Testing with Tukey’s HSD"
   ]
  },
  {
   "cell_type": "code",
   "execution_count": 22,
   "metadata": {},
   "outputs": [
    {
     "name": "stdout",
     "output_type": "stream",
     "text": [
      "       Multiple Comparison of Means - Tukey HSD, FWER=0.05       \n",
      "=================================================================\n",
      "group1 group2   meandiff   p-adj    lower        upper     reject\n",
      "-----------------------------------------------------------------\n",
      "     1      2   1888933.33 0.001 1611442.0109 2166424.6491   True\n",
      "     1      3 6831468.0631 0.001  6416900.405 7246035.7212   True\n",
      "     2      3 4942534.7331 0.001 4500834.0043  5384235.462   True\n",
      "-----------------------------------------------------------------\n"
     ]
    }
   ],
   "source": [
    "mc = MultiComparison(data=df['AccountBalance'],groups=df['ProductTypes'])\n",
    "mc_results = mc.tukeyhsd()\n",
    "print(mc_results)"
   ]
  },
  {
   "cell_type": "markdown",
   "metadata": {},
   "source": [
    "As observe above:\n",
    "- Clients with 2 or 3 ProductTypes have a significant higher account balance than clients with 1 ProductTypes\n",
    "- Clients with 2 ProductTypes have a significant higher account balance than clients with 1 ProductTypes"
   ]
  },
  {
   "cell_type": "markdown",
   "metadata": {},
   "source": [
    "##### Step 4 - Conclusion\n",
    "```\n",
    "We agree with the hypothesis from management, that is clients with more kinds of products at the bank keep more deposit dollars here.\n",
    "\n",
    "And our conclusion is correct with 99.9% probability\n",
    "\n",
    "```"
   ]
  }
 ],
 "metadata": {
  "kernelspec": {
   "display_name": "Python 3",
   "language": "python",
   "name": "python3"
  },
  "language_info": {
   "codemirror_mode": {
    "name": "ipython",
    "version": 3
   },
   "file_extension": ".py",
   "mimetype": "text/x-python",
   "name": "python",
   "nbconvert_exporter": "python",
   "pygments_lexer": "ipython3",
   "version": "3.7.4"
  }
 },
 "nbformat": 4,
 "nbformat_minor": 4
}
