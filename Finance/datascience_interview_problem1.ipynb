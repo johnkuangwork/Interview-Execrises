{
 "cells": [
  {
   "cell_type": "markdown",
   "metadata": {},
   "source": [
    "## The purpose of this notebook is to test familiarity with NumPy and Matplotlib. The exercises below guide you through calculating properties of random integers drawn from a uniform distribution. \n",
    "\n",
    "## Please show your work for each exercise you attempt. \n",
    "\n",
    "## This is an open-book exam. Please consult official documentation through the web browser if needed."
   ]
  },
  {
   "cell_type": "markdown",
   "metadata": {},
   "source": [
    "### 1) Import Matplotlib and NumPy here."
   ]
  },
  {
   "cell_type": "code",
   "execution_count": 1,
   "metadata": {},
   "outputs": [],
   "source": [
    "import matplotlib.pyplot as plt\n",
    "import matplotlib.ticker as mtick\n",
    "import numpy as np"
   ]
  },
  {
   "cell_type": "markdown",
   "metadata": {},
   "source": [
    "### 2) Calculate and store 1000 random integers between 0 and 100 inclusive."
   ]
  },
  {
   "cell_type": "code",
   "execution_count": 2,
   "metadata": {},
   "outputs": [],
   "source": [
    "int_thous=np.random.randint(low=0,high=101,size=1000)"
   ]
  },
  {
   "cell_type": "markdown",
   "metadata": {},
   "source": [
    "### 3) Show kind of data structure are the random integers stored in."
   ]
  },
  {
   "cell_type": "code",
   "execution_count": 3,
   "metadata": {},
   "outputs": [
    {
     "data": {
      "text/plain": [
       "numpy.ndarray"
      ]
     },
     "execution_count": 3,
     "metadata": {},
     "output_type": "execute_result"
    }
   ],
   "source": [
    "type(int_thous)"
   ]
  },
  {
   "cell_type": "markdown",
   "metadata": {},
   "source": [
    "### 4) Verify the minimum and maximum values of the random integers. Print these values to standard out as a tuple."
   ]
  },
  {
   "cell_type": "code",
   "execution_count": 4,
   "metadata": {},
   "outputs": [
    {
     "name": "stdout",
     "output_type": "stream",
     "text": [
      "(0, 100)\n"
     ]
    }
   ],
   "source": [
    "tup=(np.min(int_thous),np.max(int_thous))\n",
    "print(tup)"
   ]
  },
  {
   "cell_type": "markdown",
   "metadata": {},
   "source": [
    "### 5) Sort the random integers in reverse order. Print the result to standard out."
   ]
  },
  {
   "cell_type": "code",
   "execution_count": 5,
   "metadata": {},
   "outputs": [
    {
     "name": "stdout",
     "output_type": "stream",
     "text": [
      "[100 100 100 100 100 100  99  99  99  99  99  99  99  99  98  98  98  98\n",
      "  98  98  98  98  98  98  98  98  98  98  98  97  97  97  97  97  97  97\n",
      "  96  96  96  95  95  95  95  95  95  95  95  95  94  94  94  94  94  94\n",
      "  94  94  93  93  93  93  93  93  93  93  93  93  93  93  93  93  93  92\n",
      "  92  92  92  92  92  92  92  91  91  91  91  91  91  91  91  91  91  91\n",
      "  91  91  91  90  90  90  90  90  90  90  89  89  89  89  89  89  89  89\n",
      "  89  89  89  89  89  88  88  88  88  88  88  88  88  87  87  87  87  87\n",
      "  87  87  86  86  86  86  86  86  86  86  86  86  85  85  85  85  85  85\n",
      "  85  85  85  85  85  84  84  84  84  84  84  84  84  84  83  83  83  83\n",
      "  83  83  83  83  83  83  83  83  83  83  82  82  82  82  82  82  82  82\n",
      "  82  82  82  82  82  82  81  81  81  81  80  80  80  80  80  80  80  80\n",
      "  80  79  79  79  79  79  79  79  79  79  79  79  79  79  79  78  78  78\n",
      "  78  78  78  77  77  77  77  77  77  76  76  76  76  76  76  76  76  75\n",
      "  75  75  75  75  75  75  75  75  75  75  75  75  74  74  74  74  74  74\n",
      "  74  73  73  73  73  73  73  73  73  73  73  72  72  72  72  72  72  72\n",
      "  72  72  72  72  72  72  72  72  72  72  71  71  71  71  71  71  71  71\n",
      "  71  71  70  70  70  70  70  70  70  70  70  70  69  69  69  69  69  69\n",
      "  69  69  69  69  69  68  68  68  68  68  68  68  68  68  67  67  67  67\n",
      "  67  67  67  67  67  67  67  67  67  67  66  66  66  66  66  66  66  66\n",
      "  65  65  65  65  65  65  65  65  65  65  64  64  64  64  64  64  63  63\n",
      "  63  63  63  63  63  62  62  62  62  62  62  62  62  61  61  61  61  61\n",
      "  61  61  61  61  61  61  61  61  60  60  60  60  60  60  60  60  60  60\n",
      "  60  59  59  59  59  59  59  59  58  58  58  58  58  58  58  58  57  57\n",
      "  57  57  57  57  57  57  57  57  56  56  56  56  56  56  56  56  55  55\n",
      "  55  55  55  55  55  55  55  55  54  54  54  54  54  54  53  53  53  53\n",
      "  53  53  53  53  53  53  52  52  52  52  52  52  52  52  52  52  52  52\n",
      "  52  51  51  51  51  51  51  51  50  50  50  50  50  50  50  50  50  49\n",
      "  49  49  49  49  49  49  49  49  49  49  48  48  48  48  48  48  48  48\n",
      "  48  48  48  47  47  47  47  47  47  47  47  47  47  47  47  47  47  47\n",
      "  46  46  46  46  46  46  46  46  46  45  45  45  45  45  45  45  45  45\n",
      "  45  44  44  44  44  44  44  44  44  44  44  44  44  43  43  43  43  43\n",
      "  43  43  43  43  43  43  43  43  43  43  43  43  43  42  42  42  42  42\n",
      "  42  42  42  42  42  41  41  41  41  41  41  40  40  40  40  40  40  40\n",
      "  40  40  40  40  40  40  40  40  40  39  39  39  39  39  39  39  39  39\n",
      "  39  39  39  39  38  38  38  38  38  38  38  38  38  38  38  38  38  37\n",
      "  37  37  37  37  37  36  36  36  36  36  36  36  35  35  35  35  35  35\n",
      "  35  34  34  34  34  34  34  34  34  34  34  34  34  34  33  33  33  33\n",
      "  33  33  33  33  33  32  32  32  32  32  32  32  32  32  31  31  31  31\n",
      "  31  31  31  30  30  30  30  30  30  30  30  30  29  29  29  29  29  29\n",
      "  29  29  29  29  28  28  28  28  28  28  28  28  28  28  28  28  27  27\n",
      "  27  27  27  27  27  27  26  26  26  26  26  26  26  26  26  26  26  25\n",
      "  25  25  25  25  25  25  24  24  24  24  24  24  24  24  24  23  23  23\n",
      "  23  23  23  23  23  23  22  22  22  22  22  22  22  22  22  22  21  21\n",
      "  21  21  21  20  20  20  20  20  20  20  20  20  19  19  19  19  19  19\n",
      "  19  19  19  19  19  18  18  18  18  18  18  18  18  18  18  18  18  18\n",
      "  18  18  18  18  18  18  17  17  17  17  17  17  17  16  16  16  16  16\n",
      "  16  16  16  15  15  15  15  15  15  15  15  15  15  14  14  14  14  14\n",
      "  14  14  14  14  14  14  14  14  14  14  13  13  13  13  13  13  13  13\n",
      "  13  13  13  12  12  12  12  12  12  12  11  11  11  11  11  11  11  11\n",
      "  10  10  10  10  10  10  10  10  10  10  10  10  10  10  10  10   9   9\n",
      "   9   9   9   9   9   9   9   9   9   9   9   9   9   8   8   8   8   8\n",
      "   8   8   7   7   7   7   7   7   7   6   6   6   6   6   6   6   6   6\n",
      "   5   5   5   5   5   5   5   5   5   5   5   5   4   4   4   4   4   4\n",
      "   4   4   3   3   3   3   2   2   2   2   2   2   2   2   2   2   2   2\n",
      "   2   2   1   1   1   1   1   1   1   1   1   1   1   1   1   1   0   0\n",
      "   0   0   0   0   0   0   0   0   0   0]\n"
     ]
    }
   ],
   "source": [
    "print(-np.sort(-int_thous))"
   ]
  },
  {
   "cell_type": "markdown",
   "metadata": {},
   "source": [
    "### 6a) How many unique integers are represented in the random numbers?  \n",
    "### 6b) Is this what you expect? Type your explanation as a comment."
   ]
  },
  {
   "cell_type": "code",
   "execution_count": 6,
   "metadata": {},
   "outputs": [
    {
     "name": "stdout",
     "output_type": "stream",
     "text": [
      "6a) There are total 101 unique random numbers\n"
     ]
    }
   ],
   "source": [
    "print('6a) There are total ' + str(np.unique(int_thous).size) +' unique random numbers')\n",
    "# 6b) Yes, this is what I expect."
   ]
  },
  {
   "cell_type": "markdown",
   "metadata": {},
   "source": [
    "### 7a) How many 50s are in your distribution of random numbers?  \n",
    "### 7b) How many 50s would you expect to find?  \n",
    "### 7c) Sketch out the key steps for testing the statistical signifance of your result."
   ]
  },
  {
   "cell_type": "code",
   "execution_count": 7,
   "metadata": {},
   "outputs": [
    {
     "name": "stdout",
     "output_type": "stream",
     "text": [
      "7a) There are 88 \"50s\" numbers\n",
      "7b) Expect there are 99 \"50s\" numbers\n"
     ]
    }
   ],
   "source": [
    "num_fiftys=str(np.sum((int_thous>=50) & (int_thous<=59)))\n",
    "print('7a) There are '+num_fiftys+' \"50s\" numbers')\n",
    "print('7b) Expect there are 99 \"50s\" numbers')"
   ]
  },
  {
   "cell_type": "markdown",
   "metadata": {},
   "source": [
    "##### 7c) Test of Significance\n",
    "    Key Steps: \n",
    "    1. We would like to exam the number of \"50s\" sample is following a uniform distribution\n",
    "    2. Let's use Chi-Square Test statistic and P-value (0.05) for our goodness-of-fit test\n",
    "    3. Hypothesis:\n",
    "        - Ho: Our underlying sample distribution is uniformly distributed\n",
    "        - Ha: Our underlying sample distribution is NOT uniformly distributed\n",
    "    4. We firstly calculate the Chi-Square Statistics, For example assume there are 107 numbers in 50s, then we have the following table:\n",
    "\n",
    "| Group | Sample  | Expect  |\n",
    "| --- | --- | --- |\n",
    "|'50s' Group|107|100|\n",
    "|Non '50s' Group|99|901|   \n",
    "    \n",
    "    Chi-Square is calculated as (107-99)^2/99 + (893-901)^2/901 = 0.72\n",
    "    \n",
    "    5. Then we calculate the degree of freedom (1 in this case)\n",
    "    6. After that we obtain the P value from a Chi-Square table (0.462433 in this case)\n",
    "    7. Finally we compare our calculated P value to 0.05 (P - Significance) value\n",
    "        - if P value > 0.05, we CANNOT reject Ho. ie, There is no statistical evidence to against the \"50s\" sample distribution is uniformly distributed\n",
    "        - if P value <0.05, we CAN reject Ho. ie, support Ha, That is we can say the underlying sample distribution is not uniformly distributed.\n",
    "    8. In our case, P cal = 0.72 which is > 0.05, hence we conclude \"There is no statistical evidence to against the \"50s\" sample distribution is uniformly distributed\""
   ]
  },
  {
   "cell_type": "markdown",
   "metadata": {},
   "source": [
    "### 8) Find and plot the probability mass function (PMF) of the integers."
   ]
  },
  {
   "cell_type": "code",
   "execution_count": 8,
   "metadata": {},
   "outputs": [],
   "source": [
    "# According to PMF definition:\n",
    "# P(X = x) = f(x)\n",
    "# In our case, f(x)=1/(b-a+1) where b=100, a=0, hence we have f(x)=0.00990099 or 0.99% for x = 0,1,2,3,...,99,100\n",
    "##"
   ]
  },
  {
   "cell_type": "code",
   "execution_count": 9,
   "metadata": {},
   "outputs": [
    {
     "data": {
      "image/png": "[encoded data removed]",
      "text/plain": [
       "<Figure size 864x432 with 1 Axes>"
      ]
     },
     "metadata": {
      "needs_background": "light"
     },
     "output_type": "display_data"
    }
   ],
   "source": [
    "fx=1/(100-0+1)\n",
    "pdf_uniform=np.repeat(fx,1000)\n",
    "\n",
    "fig, ax = plt.subplots(figsize=(12, 6))\n",
    "ax.set_ylabel('Probability')\n",
    "ax.yaxis.set_major_formatter(mtick.PercentFormatter(1.0))\n",
    "ax.set_xlabel('Sample Number')\n",
    "ax.set_title('Probability mass function (PMF)')\n",
    "\n",
    "ax.hist(int_thous, color = 'lightgreen', edgecolor = 'grey',\n",
    "         bins = np.unique(int_thous).size, density=True,label='Sample PMF')\n",
    "ax.plot(int_thous, pdf_uniform,color = 'red',label='Theoretical PMF')\n",
    "ax.legend()\n",
    "plt.show()"
   ]
  },
  {
   "cell_type": "markdown",
   "metadata": {},
   "source": [
    "### 9a) Convert the PMF to a cumulative distribution function (CDF).\n",
    "### 9b) What is the expected shape of this plot? How could we modify the above directions to achieve that result? Type your answer as a comment.\n",
    "### 9c) Type as a comment the meaning of the function evaluated at x=75.\n",
    "### 9d) Show on this plot as a red line the mean of the random integers."
   ]
  },
  {
   "cell_type": "code",
   "execution_count": 10,
   "metadata": {},
   "outputs": [
    {
     "data": {
      "image/png": "[encoded data removed]",
      "text/plain": [
       "<Figure size 864x432 with 1 Axes>"
      ]
     },
     "metadata": {
      "needs_background": "light"
     },
     "output_type": "display_data"
    }
   ],
   "source": [
    "# 9a)\n",
    "# According to PMF definition:\n",
    "# F(x) = P(X<=t)\n",
    "# In our case, F(x)=t/(b-a+1) where b=100, a=0\n",
    "##\n",
    "\n",
    "# 9b)\n",
    "# Expect a triangle shape area chart run about a 45 degree angel from left to right end.\n",
    "\n",
    "# 9c) F(x=75) is the probability that a random variable is less than or equal to 75  \n",
    "\n",
    "# 9d)\n",
    "m=np.mean(int_thous)\n",
    "fig, ax = plt.subplots(figsize=(12, 6))\n",
    "ax.set_ylabel('Probability')\n",
    "ax.set_xlabel('Sample Number')\n",
    "ax.set_title('Cumulative distribution function (CDF)')\n",
    "ax.yaxis.set_major_formatter(mtick.PercentFormatter(1.0))\n",
    "\n",
    "ax.hist(int_thous, color = 'lightgreen', edgecolor = 'grey',\n",
    "         bins = np.unique(int_thous).size, density=True, cumulative=True,label='Sample CDF')\n",
    "plt.axvline(m,color='red',label='Mean = '+str(m))\n",
    "ax.legend()\n",
    "plt.show()"
   ]
  },
  {
   "cell_type": "code",
   "execution_count": null,
   "metadata": {},
   "outputs": [],
   "source": []
  }
 ],
 "metadata": {
  "kernelspec": {
   "display_name": "Python 3",
   "language": "python",
   "name": "python3"
  },
  "language_info": {
   "codemirror_mode": {
    "name": "ipython",
    "version": 3
   },
   "file_extension": ".py",
   "mimetype": "text/x-python",
   "name": "python",
   "nbconvert_exporter": "python",
   "pygments_lexer": "ipython3",
   "version": "3.7.4"
  }
 },
 "nbformat": 4,
 "nbformat_minor": 4
}
