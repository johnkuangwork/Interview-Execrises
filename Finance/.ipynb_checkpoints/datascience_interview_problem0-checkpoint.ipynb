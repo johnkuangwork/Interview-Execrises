{
 "cells": [
  {
   "cell_type": "markdown",
   "metadata": {},
   "source": [
    "# SQL - Homework\n",
    "\n",
    "## Please find the Entity Relationship Diagram of a simple database with two entities below: CLIENT and TRANSACTION\n",
    "\n",
    "<img src=\"files/img/ERD_SQL_Homework.png\">\n",
    "\n",
    "#### Sample data of the CLIENT table:\n",
    "| CLIENT_ID\t| FIRST_NAME  | LAST_NAME |\tCLIENT_SINCE |\tCLIENT_EMAIL |\n",
    "| --- | --- | --- | --- | --- |\n",
    "|1|Alison|Blake|2017-01-01 00:00:00.000|Alison.Blake@gmail.com|\n",
    "|2|Amanda|Bond|2017-05-01 00:00:00.000|Amanda.Bond@gmail.com|\n",
    "|3|Amelia|Bower|2016-05-01 00:00:00.000|ABoweratgmail.com|\n",
    "|4|Megan|Brown|2016-10-05 00:00:00.000|NULL|\n",
    "|5|Melanie|Buckland|2018-01-05 00:00:00.000|Melanie.Buckland@gmail.com|\n",
    "\n",
    "#### Sample data of the TRANSACTION table:\n",
    "| TRAN_ID\t| TRAN_DESCRIPTION  | DATE |\tTRAN_AMOUNT |\tCLIENT_ID |\n",
    "| --- | --- | --- | --- | --- |\n",
    "|1|ACH DEBIT|2018-01-01 00:00:00.000|-215.83|1|\n",
    "|2|DEBIT CARD|2018-01-01 00:00:00.000|-209.16|1|\n",
    "|3|ACH DEBIT|2018-01-02 00:00:00.000|-75|1|\n",
    "|4|DEBIT CARD|2018-01-02 00:00:00.000|-63.92|1|\n",
    "|5|INTERNET TRANSFER|2018-01-03 00:00:00.000|-25|1|\n",
    "|6|NULL|2018-01-03 00:00:00.000|-25|1|\n",
    "|7|DEBIT CARD LAS VEGAS|2018-01-03 00:00:00.000|-25|1|\n",
    "|8|ACH DEBIT|2018-01-01 00:00:00.000|-9.99|2|\n",
    "|9|DEBIT CARD|2018-01-01 00:00:00.000|-411.34|2|\n",
    "|10|ACH DEBIT|2018-01-02 00:00:00.000|-65.99|2|\n",
    "\n",
    "## Please write your answers to the following questions in a markdown cell:\n",
    "\n",
    "- Note:\n",
    "    - total time to complete the homework: about 30 minutes.\n",
    "\n",
    "### Part A - Provide the SQL queries to answer the following questions (not the outputs):\n",
    "\n",
    "The evaluation of your queries will emphasize logic more than syntax.\n",
    "\n",
    "#### i) How many rows are there in the CLIENT table?"
   ]
  },
  {
   "cell_type": "markdown",
   "metadata": {},
   "source": [
    "##### Question i - double click and write your answer below:\n",
    "```*.sql\n",
    "SELECT COUNT(*) AS NUMBER_OF_ROWS\n",
    "FROM CLIENT\n",
    "```"
   ]
  },
  {
   "cell_type": "markdown",
   "metadata": {},
   "source": [
    "#### 1) How many transactions are there in the TRANSACTION table? (1 min)"
   ]
  },
  {
   "cell_type": "markdown",
   "metadata": {},
   "source": [
    "##### Question 1 - double click and write your answer below:\n",
    "```*.sql\n",
    "SELECT COUNT(*) AS NUMBER_OF_ROWS\n",
    "FROM TRANSACTION\n",
    "```"
   ]
  },
  {
   "cell_type": "markdown",
   "metadata": {},
   "source": [
    "#### 2) How many clients have been with the bank for at least 2 years (as of today, the day you do the homework)? (2 mins)"
   ]
  },
  {
   "cell_type": "markdown",
   "metadata": {},
   "source": [
    "##### Question 2 - double click and write your answer below:\n",
    "```*.sql\n",
    "select \n",
    "    count(client_id) as Num_Client_Y2\n",
    "from client \n",
    "where dateadd(year,2,client_since)<=GETDATE()\n",
    "```"
   ]
  },
  {
   "cell_type": "markdown",
   "metadata": {},
   "source": [
    "#### 3) Which client has the largest number of transactions? (2 mins)"
   ]
  },
  {
   "cell_type": "markdown",
   "metadata": {},
   "source": [
    "##### Question 3 - double click and write your answer below:\n",
    "```*.sql\n",
    "select\n",
    "    top 1 c.client_id,CONCAT(c.first_name,' ',c.last_name) as Client_Most_Trans\n",
    "from\n",
    "    client c\n",
    "    left join\n",
    "        (select\n",
    "            client_id,\n",
    "            count(tran_id) as num_trans\n",
    "        from transaction\n",
    "        group by client_id) t \n",
    "    on t.client_id = c.client_id\n",
    "order by t.num_trans DESC\n",
    "```"
   ]
  },
  {
   "cell_type": "markdown",
   "metadata": {},
   "source": [
    "#### 4) Which clients have at least 5 ACH transactions (\"ACH\" is the type of the transaction, included in the description of the transaction)? (3 mins)"
   ]
  },
  {
   "cell_type": "markdown",
   "metadata": {},
   "source": [
    "##### Question 4 - double click and write your answer below:\n",
    "```*.sql\n",
    "select\n",
    "    c.client_id,\n",
    "    CONCAT(c.first_name,' ',c.last_name) as Client_ACH_5Trans\n",
    "from\n",
    "\t(select\n",
    "\t\tclient_id,count(tran_id) as num_trans\n",
    "\tfrom transaction\n",
    "\twhere tran_description like 'ACH%'\n",
    "\tgroup by client_id) t\n",
    "join\n",
    "\tclient c on t.client_id=c.client_id\n",
    "where t.num_trans>=5\n",
    "```"
   ]
  },
  {
   "cell_type": "markdown",
   "metadata": {},
   "source": [
    "#### 5) Produce a list of all clients with their total number of transactions? (3 mins)"
   ]
  },
  {
   "cell_type": "markdown",
   "metadata": {},
   "source": [
    "##### Question 5 - double click and write your answer below:\n",
    "```*.sql\n",
    "select\n",
    "\tc.client_id,\n",
    "    CONCAT(c.first_name,' ',c.last_name) as Client_Name,\n",
    "\tisnull(t.num_trans,0) as Number_Transaction\n",
    "from client c\n",
    "left join\n",
    "\t(select\n",
    "\t\tclient_id,count(tran_id) as num_trans\n",
    "\tfrom transaction\n",
    "\tgroup by client_id) t\n",
    "on t.client_id=c.client_id\n",
    "```"
   ]
  },
  {
   "cell_type": "markdown",
   "metadata": {},
   "source": [
    "#### 6) Select all clients who have a valid email? (3 mins)"
   ]
  },
  {
   "cell_type": "markdown",
   "metadata": {},
   "source": [
    "##### Question 6 - double click and write your answer below:\n",
    "```*.sql\n",
    "select\n",
    "    client_id,\n",
    "    CONCAT(first_name,' ',last_name) as Client_Name\n",
    "from client\n",
    "where client_email not like 'Null'\n",
    "```"
   ]
  },
  {
   "cell_type": "markdown",
   "metadata": {},
   "source": [
    "#### 7) Select the top 3 transactions for each client based on the \\$ amount (absolute $ amount)? (5 mins)\n",
    "\n",
    "[hint - TSQL](https://docs.microsoft.com/en-us/sql/t-sql/functions/row-number-transact-sql?view=sql-server-2017)\n",
    "\n",
    "[hint - PL/SQL](https://docs.oracle.com/cd/B19306_01/server.102/b14200/functions137.htm)\n",
    "\n",
    "[hint - MySQL](https://dev.mysql.com/doc/refman/8.0/en/window-functions-usage.html)"
   ]
  },
  {
   "cell_type": "markdown",
   "metadata": {},
   "source": [
    "##### Question 7 - double click and write your answer below:\n",
    "```*.sql\n",
    "Please Note: The following Code is base on SQL Server\n",
    "\n",
    "select\n",
    "\tc.client_id,\n",
    "\tCONCAT(c.first_name,' ',c.last_name) as Client_Name,\n",
    "\tt.amt as Number_Transaction\n",
    "from\n",
    "\tclient c left join\n",
    "\t(select\n",
    "\t\tclient_id,\n",
    "\t\ttran_amount as amt,\n",
    "\t\trank() over (partition by client_id order by abs(tran_amount) DESC) as amt_rnk\n",
    "\tfrom transaction) t\n",
    "\ton c.client_id=t.client_id\n",
    "where t.amt_rnk<=3\n",
    "```"
   ]
  },
  {
   "cell_type": "markdown",
   "metadata": {},
   "source": [
    "### Part B - For the following questions, provide an answer as plain english (not SQL queries):\n",
    "\n",
    "#### 8) Do queries A and B produce the same result and why? (2 mins)\n",
    "##### Query A:\n",
    "```*.sql\n",
    "SELECT COUNT(*) AS NUMBER_TRANSACTIONS\n",
    "FROM [TRANSACTION]\n",
    ";\n",
    "``` \n",
    "##### Query B:\n",
    "\n",
    "```*.sql\n",
    "SELECT COUNT(TRAN_DESCRIPTION) AS NUMBER_TRANSACTIONS\n",
    "FROM [TRANSACTION]\n",
    ";\n",
    "``` "
   ]
  },
  {
   "cell_type": "markdown",
   "metadata": {},
   "source": [
    "##### Question 8 - double click and write your answer below:\n",
    "<div style=\"color: green;\">\n",
    "\n",
    "No. Queries A and B may produce different result. Query A counts a transaction if all the entries are not null, where as Query B will count a transaction if the TRAN_DESCRIPTION entry is not null.\n",
    "\n",
    "For example with the table below.\n",
    "    \n",
    "    - Query A will return 2\n",
    "    - Query B will return 1\n",
    "    \n",
    "| TRAN_ID\t| TRAN_DESCRIPTION  | DATE |\tTRAN_AMOUNT |\tCLIENT_ID |\n",
    "| --- | --- | --- | --- | --- |\n",
    "|1|Null|2018-01-01 00:00:00.000|-215.83|1|\n",
    "|2|DEBIT CARD|2018-01-01 00:00:00.000|-209.16|1|\n",
    "    \n",
    "</div>"
   ]
  },
  {
   "cell_type": "markdown",
   "metadata": {},
   "source": [
    "#### 9) Context:\n",
    "\n",
    "One of your collegue runs an ETL everyday (incremental load) in order to extract ACH transactions from the TRANSACTION table and use this piece of data as a feature for a machine learning model. The data pipeline is slow and the extraction of relevant transactions from the TRANSACTION table seems to be the bottleneck of this data pipeline. He asked the dba team (database administrator team) to create \"releavant\" indexes to smooth the process. The dba team replied that the TRANSACTION table already has an index on the primary key.\n",
    "\n",
    "#### Can you explain what will be your approach to better diagnose the situation and offer suggestion(s) to improve the data pipeline? (Pros and Cons). (3 mins)"
   ]
  },
  {
   "cell_type": "markdown",
   "metadata": {},
   "source": [
    "##### Question 9 - double click and write your answer below:\n",
    "<div style=\"color: green;\">\n",
    "\n",
    "My approach to diagnose the situation are in the following steps:\n",
    "1.\tWhat ‘releavant’ indexes my collegue is proposing to include in the database? \n",
    "2.\tUnderstand what is the desire feature my collegue needs from the incremental extraction? Does he/she need all the ACH details or just need part of the fields. Say all columns vs only need the Tran_Amount without the exact transaction time. \n",
    "3.\tUnderstand how is the incremental daily transaction is integrating into the main/backend database. Some companies have temporary daily sub-database where the amount of data is much smaller than the main ones. \n",
    "4.\tUnderstand what is the desire time to load the incremental data? Can we run the ELT overnight?\n",
    "\n",
    "Here are some suggestions:\n",
    "\n",
    "| Suggestion\t| Approach  | Pros | Cons |\n",
    "| --- | --- | --- | --- |\n",
    "|A - Create Index|Create an indicator to flag ACH transactions and/or the current date if needed|Higher speed than checking if string ‘ACH’ is present in ‘TRAN_DESCRIPTION’ |Require dba team to preprocess the data, increase in data size|\n",
    "|B - Partition Large Tables|Suggest to ELT only the daily transaction sub-database if available|Much smaller data size to work with hence greater speed enhancement |Require dba team to partition a daily sub-database if not currently available|\n",
    "|C - Cut Out Extraneous Data|On top of Suggestion B, remove any data field that is not required before Aextraction, for example if only transaction amount is interested, we can remove the datetime field |Further trim the data size hence greater speed enhancement |Require dba team to preprocess the data|\n",
    "|D - Cache the Data|load incremental data into memory before ELT|Minimum changes to current process |Cost: Limit to hardware supports|\n",
    "|E - Process in Parallel|Use additional hardware to boost speed (ie parallel computing) |Minimum changes to current process| Cost: Limit to hardware supports|\n",
    "|F – Process timing|Schedule to run ELT overnight |Minimum changes to current process| Unable to resolve problems real time|\n",
    "\n",
    "</div>"
   ]
  },
  {
   "cell_type": "markdown",
   "metadata": {},
   "source": [
    "#### 10) How much time did you spend on this homework? Was it difficult or easy? (2 mins)"
   ]
  },
  {
   "cell_type": "markdown",
   "metadata": {},
   "source": [
    "##### Question 10 - double click and write your answer below:\n",
    "<div style=\"color: green;\">\n",
    "\n",
    "Spend about 35 mins. The questions are interesting and straightforward.\n",
    "</div>"
   ]
  },
  {
   "cell_type": "code",
   "execution_count": null,
   "metadata": {},
   "outputs": [],
   "source": []
  }
 ],
 "metadata": {
  "kernelspec": {
   "display_name": "Python 3",
   "language": "python",
   "name": "python3"
  },
  "language_info": {
   "codemirror_mode": {
    "name": "ipython",
    "version": 3
   },
   "file_extension": ".py",
   "mimetype": "text/x-python",
   "name": "python",
   "nbconvert_exporter": "python",
   "pygments_lexer": "ipython3",
   "version": "3.7.4"
  }
 },
 "nbformat": 4,
 "nbformat_minor": 4
}
